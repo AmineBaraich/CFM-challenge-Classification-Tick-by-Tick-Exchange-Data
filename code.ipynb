{
 "cells": [
  {
   "cell_type": "code",
   "execution_count": 96,
   "metadata": {},
   "outputs": [],
   "source": [
    "import pandas as pd\n",
    "import numpy as np\n",
    "from sklearn.preprocessing import OneHotEncoder\n",
    "from sklearn.model_selection import train_test_split\n",
    "import tensorflow as tf\n",
    "from tensorflow.keras.layers import Input, GRU, Dense, concatenate\n",
    "from tensorflow.keras.models import Sequential\n",
    "from tensorflow.keras.optimizers import Adam"
   ]
  },
  {
   "cell_type": "code",
   "execution_count": 123,
   "metadata": {},
   "outputs": [],
   "source": [
    "x_train_path = '../data/X_train_N1.csv'\n",
    "y_train_path = '../data/y_train_or.csv'\n",
    "\n",
    "X_train = pd.read_csv(x_train_path)\n",
    "Y_train = pd.read_csv(y_train_path)"
   ]
  },
  {
   "cell_type": "code",
   "execution_count": 124,
   "metadata": {},
   "outputs": [],
   "source": [
    "X_train = X_train.sample(n=30000, random_state=1)"
   ]
  },
  {
   "cell_type": "code",
   "execution_count": 125,
   "metadata": {},
   "outputs": [
    {
     "data": {
      "text/html": [
       "<div>\n",
       "<style scoped>\n",
       "    .dataframe tbody tr th:only-of-type {\n",
       "        vertical-align: middle;\n",
       "    }\n",
       "\n",
       "    .dataframe tbody tr th {\n",
       "        vertical-align: top;\n",
       "    }\n",
       "\n",
       "    .dataframe thead th {\n",
       "        text-align: right;\n",
       "    }\n",
       "</style>\n",
       "<table border=\"1\" class=\"dataframe\">\n",
       "  <thead>\n",
       "    <tr style=\"text-align: right;\">\n",
       "      <th></th>\n",
       "      <th>obs_id</th>\n",
       "      <th>venue</th>\n",
       "      <th>order_id</th>\n",
       "      <th>action</th>\n",
       "      <th>side</th>\n",
       "      <th>price</th>\n",
       "      <th>bid</th>\n",
       "      <th>ask</th>\n",
       "      <th>bid_size</th>\n",
       "      <th>ask_size</th>\n",
       "      <th>trade</th>\n",
       "      <th>flux</th>\n",
       "    </tr>\n",
       "  </thead>\n",
       "  <tbody>\n",
       "    <tr>\n",
       "      <th>2257520</th>\n",
       "      <td>22575</td>\n",
       "      <td>5</td>\n",
       "      <td>17</td>\n",
       "      <td>D</td>\n",
       "      <td>B</td>\n",
       "      <td>-0.01</td>\n",
       "      <td>0.00</td>\n",
       "      <td>0.02</td>\n",
       "      <td>400</td>\n",
       "      <td>84</td>\n",
       "      <td>False</td>\n",
       "      <td>-10</td>\n",
       "    </tr>\n",
       "    <tr>\n",
       "      <th>14536058</th>\n",
       "      <td>145360</td>\n",
       "      <td>4</td>\n",
       "      <td>44</td>\n",
       "      <td>D</td>\n",
       "      <td>B</td>\n",
       "      <td>0.01</td>\n",
       "      <td>0.01</td>\n",
       "      <td>0.03</td>\n",
       "      <td>2368</td>\n",
       "      <td>400</td>\n",
       "      <td>False</td>\n",
       "      <td>-100</td>\n",
       "    </tr>\n",
       "    <tr>\n",
       "      <th>4987443</th>\n",
       "      <td>49874</td>\n",
       "      <td>1</td>\n",
       "      <td>35</td>\n",
       "      <td>A</td>\n",
       "      <td>B</td>\n",
       "      <td>-0.04</td>\n",
       "      <td>-0.01</td>\n",
       "      <td>0.00</td>\n",
       "      <td>955</td>\n",
       "      <td>505</td>\n",
       "      <td>False</td>\n",
       "      <td>100</td>\n",
       "    </tr>\n",
       "  </tbody>\n",
       "</table>\n",
       "</div>"
      ],
      "text/plain": [
       "          obs_id  venue  order_id action side  price   bid   ask  bid_size  \\\n",
       "2257520    22575      5        17      D    B  -0.01  0.00  0.02       400   \n",
       "14536058  145360      4        44      D    B   0.01  0.01  0.03      2368   \n",
       "4987443    49874      1        35      A    B  -0.04 -0.01  0.00       955   \n",
       "\n",
       "          ask_size  trade  flux  \n",
       "2257520         84  False   -10  \n",
       "14536058       400  False  -100  \n",
       "4987443        505  False   100  "
      ]
     },
     "execution_count": 125,
     "metadata": {},
     "output_type": "execute_result"
    }
   ],
   "source": [
    "X_train.head(3)"
   ]
  },
  {
   "cell_type": "code",
   "execution_count": 126,
   "metadata": {},
   "outputs": [
    {
     "data": {
      "text/plain": [
       "{'A', 'B'}"
      ]
     },
     "execution_count": 126,
     "metadata": {},
     "output_type": "execute_result"
    }
   ],
   "source": [
    "set(X_train['side'])"
   ]
  },
  {
   "cell_type": "code",
   "execution_count": 127,
   "metadata": {},
   "outputs": [],
   "source": [
    "# One-Hot Encode 'action' and 'side' columns \n",
    "action_encoded = pd.get_dummies(X_train[['action']], dtype='int')\n",
    "side_encoded = pd.get_dummies(X_train[['side']], dtype='int')\n",
    "\n",
    "# Drop the original 'action' and 'side' columns and concatenate the one-hot encoded columns\n",
    "X_train = pd.concat([X_train, action_encoded], axis=1)\n",
    "X_train = pd.concat([X_train, side_encoded], axis=1)\n",
    "X_train['trade'] = X_train['trade'].astype(int)\n",
    "X_train = X_train.drop(['action'], axis=1)\n",
    "X_train = X_train.drop(['side'], axis=1)"
   ]
  },
  {
   "cell_type": "code",
   "execution_count": 130,
   "metadata": {},
   "outputs": [
    {
     "data": {
      "text/html": [
       "<div>\n",
       "<style scoped>\n",
       "    .dataframe tbody tr th:only-of-type {\n",
       "        vertical-align: middle;\n",
       "    }\n",
       "\n",
       "    .dataframe tbody tr th {\n",
       "        vertical-align: top;\n",
       "    }\n",
       "\n",
       "    .dataframe thead th {\n",
       "        text-align: right;\n",
       "    }\n",
       "</style>\n",
       "<table border=\"1\" class=\"dataframe\">\n",
       "  <thead>\n",
       "    <tr style=\"text-align: right;\">\n",
       "      <th></th>\n",
       "      <th>obs_id</th>\n",
       "      <th>venue</th>\n",
       "      <th>order_id</th>\n",
       "      <th>price</th>\n",
       "      <th>bid</th>\n",
       "      <th>ask</th>\n",
       "      <th>bid_size</th>\n",
       "      <th>ask_size</th>\n",
       "      <th>trade</th>\n",
       "      <th>flux</th>\n",
       "      <th>action_A</th>\n",
       "      <th>action_D</th>\n",
       "      <th>action_U</th>\n",
       "      <th>side_A</th>\n",
       "      <th>side_B</th>\n",
       "    </tr>\n",
       "  </thead>\n",
       "  <tbody>\n",
       "    <tr>\n",
       "      <th>2257520</th>\n",
       "      <td>22575</td>\n",
       "      <td>5</td>\n",
       "      <td>17</td>\n",
       "      <td>-0.01</td>\n",
       "      <td>0.00</td>\n",
       "      <td>0.02</td>\n",
       "      <td>400</td>\n",
       "      <td>84</td>\n",
       "      <td>0</td>\n",
       "      <td>-10</td>\n",
       "      <td>0</td>\n",
       "      <td>1</td>\n",
       "      <td>0</td>\n",
       "      <td>0</td>\n",
       "      <td>1</td>\n",
       "    </tr>\n",
       "    <tr>\n",
       "      <th>14536058</th>\n",
       "      <td>145360</td>\n",
       "      <td>4</td>\n",
       "      <td>44</td>\n",
       "      <td>0.01</td>\n",
       "      <td>0.01</td>\n",
       "      <td>0.03</td>\n",
       "      <td>2368</td>\n",
       "      <td>400</td>\n",
       "      <td>0</td>\n",
       "      <td>-100</td>\n",
       "      <td>0</td>\n",
       "      <td>1</td>\n",
       "      <td>0</td>\n",
       "      <td>0</td>\n",
       "      <td>1</td>\n",
       "    </tr>\n",
       "    <tr>\n",
       "      <th>4987443</th>\n",
       "      <td>49874</td>\n",
       "      <td>1</td>\n",
       "      <td>35</td>\n",
       "      <td>-0.04</td>\n",
       "      <td>-0.01</td>\n",
       "      <td>0.00</td>\n",
       "      <td>955</td>\n",
       "      <td>505</td>\n",
       "      <td>0</td>\n",
       "      <td>100</td>\n",
       "      <td>1</td>\n",
       "      <td>0</td>\n",
       "      <td>0</td>\n",
       "      <td>0</td>\n",
       "      <td>1</td>\n",
       "    </tr>\n",
       "    <tr>\n",
       "      <th>13955863</th>\n",
       "      <td>139558</td>\n",
       "      <td>2</td>\n",
       "      <td>38</td>\n",
       "      <td>0.12</td>\n",
       "      <td>0.00</td>\n",
       "      <td>0.06</td>\n",
       "      <td>329</td>\n",
       "      <td>412</td>\n",
       "      <td>0</td>\n",
       "      <td>-1</td>\n",
       "      <td>0</td>\n",
       "      <td>1</td>\n",
       "      <td>0</td>\n",
       "      <td>1</td>\n",
       "      <td>0</td>\n",
       "    </tr>\n",
       "    <tr>\n",
       "      <th>522717</th>\n",
       "      <td>5227</td>\n",
       "      <td>4</td>\n",
       "      <td>14</td>\n",
       "      <td>-0.05</td>\n",
       "      <td>0.00</td>\n",
       "      <td>0.01</td>\n",
       "      <td>810</td>\n",
       "      <td>542</td>\n",
       "      <td>0</td>\n",
       "      <td>-100</td>\n",
       "      <td>0</td>\n",
       "      <td>1</td>\n",
       "      <td>0</td>\n",
       "      <td>0</td>\n",
       "      <td>1</td>\n",
       "    </tr>\n",
       "  </tbody>\n",
       "</table>\n",
       "</div>"
      ],
      "text/plain": [
       "          obs_id  venue  order_id  price   bid   ask  bid_size  ask_size  \\\n",
       "2257520    22575      5        17  -0.01  0.00  0.02       400        84   \n",
       "14536058  145360      4        44   0.01  0.01  0.03      2368       400   \n",
       "4987443    49874      1        35  -0.04 -0.01  0.00       955       505   \n",
       "13955863  139558      2        38   0.12  0.00  0.06       329       412   \n",
       "522717      5227      4        14  -0.05  0.00  0.01       810       542   \n",
       "\n",
       "          trade  flux  action_A  action_D  action_U  side_A  side_B  \n",
       "2257520       0   -10         0         1         0       0       1  \n",
       "14536058      0  -100         0         1         0       0       1  \n",
       "4987443       0   100         1         0         0       0       1  \n",
       "13955863      0    -1         0         1         0       1       0  \n",
       "522717        0  -100         0         1         0       0       1  "
      ]
     },
     "execution_count": 130,
     "metadata": {},
     "output_type": "execute_result"
    }
   ],
   "source": [
    "X_train.head()"
   ]
  },
  {
   "cell_type": "code",
   "execution_count": null,
   "metadata": {},
   "outputs": [
    {
     "name": "stdout",
     "output_type": "stream",
     "text": [
      "Distribution of events per obs_id:\n",
      " count    27421.000000\n",
      "mean         1.094052\n",
      "std          0.309728\n",
      "min          1.000000\n",
      "25%          1.000000\n",
      "50%          1.000000\n",
      "75%          1.000000\n",
      "max          4.000000\n",
      "Name: count, dtype: float64\n",
      "Sample of obs_id counts:\n",
      " obs_id\n",
      "41344     4\n",
      "86543     4\n",
      "31545     4\n",
      "19025     4\n",
      "150190    4\n",
      "117513    4\n",
      "133680    4\n",
      "154434    4\n",
      "62246     3\n",
      "33046     3\n",
      "17284     3\n",
      "131128    3\n",
      "147068    3\n",
      "116094    3\n",
      "91031     3\n",
      "46092     3\n",
      "112695    3\n",
      "50955     3\n",
      "138668    3\n",
      "85587     3\n",
      "Name: count, dtype: int64\n"
     ]
    }
   ],
   "source": [
    "# Check the distribution of obs_id\n",
    "obs_id_counts = X_train['obs_id'].value_counts()\n",
    "print(\"Distribution of events per obs_id:\\n\", obs_id_counts.describe())\n",
    "\n",
    "# Print a sample of the obs_id counts to see the distribution\n",
    "print(\"Sample of obs_id counts:\\n\", obs_id_counts.head(20))\n"
   ]
  },
  {
   "cell_type": "code",
   "execution_count": 121,
   "metadata": {},
   "outputs": [],
   "source": [
    "# Reattach the obs_id column to the DataFrame\n",
    "obs_id = X_train['obs_id']\n",
    "X_train['obs_id'] = obs_id.values"
   ]
  },
  {
   "cell_type": "code",
   "execution_count": 132,
   "metadata": {},
   "outputs": [
    {
     "name": "stdout",
     "output_type": "stream",
     "text": [
      "Number of sequences processed: 27421\n"
     ]
    }
   ],
   "source": [
    "from tensorflow.keras.preprocessing.sequence import pad_sequences\n",
    "\n",
    "def preprocess_features(df, max_sequence_length=4):\n",
    "    # Group by obs_id and collect sequences\n",
    "    grouped = df.groupby('obs_id')\n",
    "    features = []\n",
    "\n",
    "    for name, group in grouped:\n",
    "        features.append(group.drop(columns=['obs_id']).values.tolist())\n",
    "    \n",
    "    # Pad sequences to the same length\n",
    "    features_padded = pad_sequences(features, maxlen=max_sequence_length, padding='post', dtype='float32')\n",
    "\n",
    "    return np.array(features_padded)\n",
    "\n",
    "# Run the adjusted preprocessing step with padding\n",
    "X_train_processed = preprocess_features(X_train, max_sequence_length=4)\n",
    "\n",
    "#  Check the number of sequences\n",
    "print(f\"Number of sequences processed: {len(X_train_processed)}\")"
   ]
  },
  {
   "cell_type": "code",
   "execution_count": 133,
   "metadata": {},
   "outputs": [],
   "source": [
    "# Preprocess the target variable\n",
    "def preprocess_target(Y_train, num_sequences):\n",
    "    return Y_train['eqt_code_cat'].values[:num_sequences]\n",
    "\n",
    "Y_train_processed = preprocess_target(Y_train, len(X_train_processed))"
   ]
  },
  {
   "cell_type": "code",
   "execution_count": 134,
   "metadata": {},
   "outputs": [],
   "source": [
    "# Split the data into training and validation sets\n",
    "X_train, X_val, Y_train, Y_val = train_test_split(X_train_processed, Y_train_processed, test_size=0.2, random_state=42)\n"
   ]
  },
  {
   "cell_type": "code",
   "execution_count": 139,
   "metadata": {},
   "outputs": [
    {
     "data": {
      "text/plain": [
       "array([[[ 0.000e+00,  4.200e+01,  1.200e-01,  0.000e+00,  5.000e-02,\n",
       "          4.120e+02,  5.270e+02,  0.000e+00,  1.000e+02,  1.000e+00,\n",
       "          0.000e+00,  0.000e+00,  1.000e+00,  0.000e+00],\n",
       "        [ 0.000e+00,  0.000e+00,  0.000e+00,  0.000e+00,  0.000e+00,\n",
       "          0.000e+00,  0.000e+00,  0.000e+00,  0.000e+00,  0.000e+00,\n",
       "          0.000e+00,  0.000e+00,  0.000e+00,  0.000e+00],\n",
       "        [ 0.000e+00,  0.000e+00,  0.000e+00,  0.000e+00,  0.000e+00,\n",
       "          0.000e+00,  0.000e+00,  0.000e+00,  0.000e+00,  0.000e+00,\n",
       "          0.000e+00,  0.000e+00,  0.000e+00,  0.000e+00],\n",
       "        [ 0.000e+00,  0.000e+00,  0.000e+00,  0.000e+00,  0.000e+00,\n",
       "          0.000e+00,  0.000e+00,  0.000e+00,  0.000e+00,  0.000e+00,\n",
       "          0.000e+00,  0.000e+00,  0.000e+00,  0.000e+00]],\n",
       "\n",
       "       [[ 4.000e+00,  4.800e+01, -8.000e-02,  1.000e-02,  5.000e-02,\n",
       "          1.500e+02,  2.500e+02,  0.000e+00, -1.000e+02,  0.000e+00,\n",
       "          1.000e+00,  0.000e+00,  0.000e+00,  1.000e+00],\n",
       "        [ 0.000e+00,  0.000e+00,  0.000e+00,  0.000e+00,  0.000e+00,\n",
       "          0.000e+00,  0.000e+00,  0.000e+00,  0.000e+00,  0.000e+00,\n",
       "          0.000e+00,  0.000e+00,  0.000e+00,  0.000e+00],\n",
       "        [ 0.000e+00,  0.000e+00,  0.000e+00,  0.000e+00,  0.000e+00,\n",
       "          0.000e+00,  0.000e+00,  0.000e+00,  0.000e+00,  0.000e+00,\n",
       "          0.000e+00,  0.000e+00,  0.000e+00,  0.000e+00],\n",
       "        [ 0.000e+00,  0.000e+00,  0.000e+00,  0.000e+00,  0.000e+00,\n",
       "          0.000e+00,  0.000e+00,  0.000e+00,  0.000e+00,  0.000e+00,\n",
       "          0.000e+00,  0.000e+00,  0.000e+00,  0.000e+00]],\n",
       "\n",
       "       [[ 5.000e+00,  4.000e+01,  6.000e-02,  1.000e-02,  2.000e-02,\n",
       "          2.050e+02,  5.190e+02,  0.000e+00, -1.000e+02,  0.000e+00,\n",
       "          1.000e+00,  0.000e+00,  1.000e+00,  0.000e+00],\n",
       "        [ 0.000e+00,  0.000e+00,  0.000e+00,  0.000e+00,  0.000e+00,\n",
       "          0.000e+00,  0.000e+00,  0.000e+00,  0.000e+00,  0.000e+00,\n",
       "          0.000e+00,  0.000e+00,  0.000e+00,  0.000e+00],\n",
       "        [ 0.000e+00,  0.000e+00,  0.000e+00,  0.000e+00,  0.000e+00,\n",
       "          0.000e+00,  0.000e+00,  0.000e+00,  0.000e+00,  0.000e+00,\n",
       "          0.000e+00,  0.000e+00,  0.000e+00,  0.000e+00],\n",
       "        [ 0.000e+00,  0.000e+00,  0.000e+00,  0.000e+00,  0.000e+00,\n",
       "          0.000e+00,  0.000e+00,  0.000e+00,  0.000e+00,  0.000e+00,\n",
       "          0.000e+00,  0.000e+00,  0.000e+00,  0.000e+00]],\n",
       "\n",
       "       [[ 2.000e+00,  1.100e+01,  0.000e+00,  0.000e+00,  1.100e-01,\n",
       "          2.000e+02,  1.000e+02,  0.000e+00,  1.000e+02,  1.000e+00,\n",
       "          0.000e+00,  0.000e+00,  0.000e+00,  1.000e+00],\n",
       "        [ 0.000e+00,  0.000e+00,  0.000e+00,  0.000e+00,  0.000e+00,\n",
       "          0.000e+00,  0.000e+00,  0.000e+00,  0.000e+00,  0.000e+00,\n",
       "          0.000e+00,  0.000e+00,  0.000e+00,  0.000e+00],\n",
       "        [ 0.000e+00,  0.000e+00,  0.000e+00,  0.000e+00,  0.000e+00,\n",
       "          0.000e+00,  0.000e+00,  0.000e+00,  0.000e+00,  0.000e+00,\n",
       "          0.000e+00,  0.000e+00,  0.000e+00,  0.000e+00],\n",
       "        [ 0.000e+00,  0.000e+00,  0.000e+00,  0.000e+00,  0.000e+00,\n",
       "          0.000e+00,  0.000e+00,  0.000e+00,  0.000e+00,  0.000e+00,\n",
       "          0.000e+00,  0.000e+00,  0.000e+00,  0.000e+00]],\n",
       "\n",
       "       [[ 0.000e+00,  1.400e+01,  0.000e+00,  0.000e+00,  1.000e-02,\n",
       "          1.586e+03,  4.111e+03,  0.000e+00,  1.000e+02,  1.000e+00,\n",
       "          0.000e+00,  0.000e+00,  0.000e+00,  1.000e+00],\n",
       "        [ 0.000e+00,  0.000e+00,  0.000e+00,  0.000e+00,  0.000e+00,\n",
       "          0.000e+00,  0.000e+00,  0.000e+00,  0.000e+00,  0.000e+00,\n",
       "          0.000e+00,  0.000e+00,  0.000e+00,  0.000e+00],\n",
       "        [ 0.000e+00,  0.000e+00,  0.000e+00,  0.000e+00,  0.000e+00,\n",
       "          0.000e+00,  0.000e+00,  0.000e+00,  0.000e+00,  0.000e+00,\n",
       "          0.000e+00,  0.000e+00,  0.000e+00,  0.000e+00],\n",
       "        [ 0.000e+00,  0.000e+00,  0.000e+00,  0.000e+00,  0.000e+00,\n",
       "          0.000e+00,  0.000e+00,  0.000e+00,  0.000e+00,  0.000e+00,\n",
       "          0.000e+00,  0.000e+00,  0.000e+00,  0.000e+00]]], dtype=float32)"
      ]
     },
     "execution_count": 139,
     "metadata": {},
     "output_type": "execute_result"
    }
   ],
   "source": [
    "X_train[:5]"
   ]
  },
  {
   "cell_type": "code",
   "execution_count": 140,
   "metadata": {},
   "outputs": [],
   "source": [
    "# Build the model using Sequential API\n",
    "input_shape = (4, X_train.shape[2])\n",
    "num_classes = 24\n",
    "\n",
    "model = Sequential()\n",
    "\n",
    "# Adding GRU layers\n",
    "model.add(Input(shape=input_shape))\n",
    "model.add(GRU(64, return_sequences=True))\n",
    "model.add(GRU(64, return_sequences=True, go_backwards=True))\n",
    "\n",
    "# Flattening the output from the GRU layers\n",
    "model.add(tf.keras.layers.Flatten())\n",
    "\n",
    "# Adding Dense layers\n",
    "model.add(Dense(64, activation='selu'))\n",
    "model.add(Dense(num_classes, activation='softmax'))\n",
    "\n",
    "# Compile the model\n",
    "model.compile(optimizer=Adam(learning_rate=3e-3), loss='sparse_categorical_crossentropy', metrics=['accuracy'])"
   ]
  },
  {
   "cell_type": "code",
   "execution_count": 143,
   "metadata": {},
   "outputs": [
    {
     "name": "stdout",
     "output_type": "stream",
     "text": [
      "Epoch 1/18\n",
      "22/22 [==============================] - 1s 25ms/step - loss: 3.1521 - accuracy: 0.0585 - val_loss: 3.2084 - val_accuracy: 0.0419\n",
      "Epoch 2/18\n",
      "22/22 [==============================] - 1s 24ms/step - loss: 3.1494 - accuracy: 0.0615 - val_loss: 3.2076 - val_accuracy: 0.0436\n",
      "Epoch 3/18\n",
      "22/22 [==============================] - 1s 24ms/step - loss: 3.1484 - accuracy: 0.0621 - val_loss: 3.2089 - val_accuracy: 0.0443\n",
      "Epoch 4/18\n",
      "22/22 [==============================] - 1s 23ms/step - loss: 3.1447 - accuracy: 0.0634 - val_loss: 3.2104 - val_accuracy: 0.0434\n",
      "Epoch 5/18\n",
      "22/22 [==============================] - 1s 25ms/step - loss: 3.1429 - accuracy: 0.0640 - val_loss: 3.2163 - val_accuracy: 0.0443\n",
      "Epoch 6/18\n",
      "22/22 [==============================] - 1s 23ms/step - loss: 3.1399 - accuracy: 0.0655 - val_loss: 3.2156 - val_accuracy: 0.0427\n",
      "Epoch 7/18\n",
      "22/22 [==============================] - 1s 24ms/step - loss: 3.1350 - accuracy: 0.0674 - val_loss: 3.2141 - val_accuracy: 0.0448\n",
      "Epoch 8/18\n",
      "22/22 [==============================] - 1s 23ms/step - loss: 3.1308 - accuracy: 0.0703 - val_loss: 3.2280 - val_accuracy: 0.0432\n",
      "Epoch 9/18\n",
      "22/22 [==============================] - 1s 23ms/step - loss: 3.1266 - accuracy: 0.0702 - val_loss: 3.2306 - val_accuracy: 0.0425\n",
      "Epoch 10/18\n",
      "22/22 [==============================] - 1s 23ms/step - loss: 3.1262 - accuracy: 0.0716 - val_loss: 3.2307 - val_accuracy: 0.0430\n",
      "Epoch 11/18\n",
      "22/22 [==============================] - 1s 24ms/step - loss: 3.1247 - accuracy: 0.0708 - val_loss: 3.2347 - val_accuracy: 0.0414\n",
      "Epoch 12/18\n",
      "22/22 [==============================] - 1s 24ms/step - loss: 3.1182 - accuracy: 0.0730 - val_loss: 3.2357 - val_accuracy: 0.0421\n",
      "Epoch 13/18\n",
      "22/22 [==============================] - 1s 25ms/step - loss: 3.1159 - accuracy: 0.0735 - val_loss: 3.2429 - val_accuracy: 0.0416\n",
      "Epoch 14/18\n",
      "22/22 [==============================] - 1s 24ms/step - loss: 3.1107 - accuracy: 0.0752 - val_loss: 3.2432 - val_accuracy: 0.0450\n",
      "Epoch 15/18\n",
      "22/22 [==============================] - 1s 26ms/step - loss: 3.1034 - accuracy: 0.0767 - val_loss: 3.2508 - val_accuracy: 0.0447\n",
      "Epoch 16/18\n",
      "22/22 [==============================] - 1s 24ms/step - loss: 3.1001 - accuracy: 0.0804 - val_loss: 3.2557 - val_accuracy: 0.0428\n",
      "Epoch 17/18\n",
      "22/22 [==============================] - 1s 24ms/step - loss: 3.0971 - accuracy: 0.0800 - val_loss: 3.2540 - val_accuracy: 0.0401\n",
      "Epoch 18/18\n",
      "22/22 [==============================] - 1s 25ms/step - loss: 3.0891 - accuracy: 0.0805 - val_loss: 3.2547 - val_accuracy: 0.0494\n"
     ]
    },
    {
     "data": {
      "text/plain": [
       "<keras.callbacks.History at 0x2590343c8e0>"
      ]
     },
     "execution_count": 143,
     "metadata": {},
     "output_type": "execute_result"
    }
   ],
   "source": [
    "# Train the model\n",
    "batch_size = 1000\n",
    "epochs = 18  # Adjust the number of epochs as necessary\n",
    "\n",
    "model.fit(X_train, Y_train, validation_data=(X_val, Y_val), batch_size=batch_size, epochs=epochs)"
   ]
  },
  {
   "cell_type": "code",
   "execution_count": 144,
   "metadata": {},
   "outputs": [
    {
     "name": "stdout",
     "output_type": "stream",
     "text": [
      "172/172 [==============================] - 1s 4ms/step - loss: 3.2547 - accuracy: 0.0494\n",
      "Validation Accuracy: 0.0494\n"
     ]
    }
   ],
   "source": [
    "# Evaluate the model\n",
    "loss, accuracy = model.evaluate(X_val, Y_val)\n",
    "print(f'Validation Accuracy: {accuracy:.4f}')"
   ]
  }
 ],
 "metadata": {
  "kernelspec": {
   "display_name": "Python 3",
   "language": "python",
   "name": "python3"
  },
  "language_info": {
   "codemirror_mode": {
    "name": "ipython",
    "version": 3
   },
   "file_extension": ".py",
   "mimetype": "text/x-python",
   "name": "python",
   "nbconvert_exporter": "python",
   "pygments_lexer": "ipython3",
   "version": "3.10.13"
  }
 },
 "nbformat": 4,
 "nbformat_minor": 2
}
